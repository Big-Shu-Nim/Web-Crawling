{
  "nbformat": 4,
  "nbformat_minor": 0,
  "metadata": {
    "colab": {
      "name": "20220218_Web Crawling_Requests;Regular Expressions.ipynb",
      "provenance": [],
      "collapsed_sections": []
    },
    "kernelspec": {
      "name": "python3",
      "display_name": "Python 3"
    },
    "language_info": {
      "name": "python"
    }
  },
  "cells": [
    {
      "cell_type": "code",
      "execution_count": 2,
      "metadata": {
        "colab": {
          "base_uri": "https://localhost:8080/"
        },
        "id": "6q9oj5nTAdgX",
        "outputId": "98032100-ef96-4d83-f77b-fb2a260af22c"
      },
      "outputs": [
        {
          "output_type": "stream",
          "name": "stdout",
          "text": [
            "Requirement already satisfied: requests in /usr/local/lib/python3.7/dist-packages (2.23.0)\n",
            "Requirement already satisfied: urllib3!=1.25.0,!=1.25.1,<1.26,>=1.21.1 in /usr/local/lib/python3.7/dist-packages (from requests) (1.24.3)\n",
            "Requirement already satisfied: certifi>=2017.4.17 in /usr/local/lib/python3.7/dist-packages (from requests) (2021.10.8)\n",
            "Requirement already satisfied: idna<3,>=2.5 in /usr/local/lib/python3.7/dist-packages (from requests) (2.10)\n",
            "Requirement already satisfied: chardet<4,>=3.0.2 in /usr/local/lib/python3.7/dist-packages (from requests) (3.0.4)\n"
          ]
        }
      ],
      "source": [
        "!pip install requests"
      ]
    },
    {
      "cell_type": "code",
      "source": [
        "# 웹스크래핑 타겟 웹스크립트 가져오기 \n",
        "# 1-1 리퀘스트 설치하고 해당 url 가져올수 있는지 확인하기 \n",
        "import requests\n",
        "res = requests.get('https://cafe.daum.net/MoonCoach')\n",
        "res.raise_for_status()\n",
        "print('응답코드:', res.status_code)\n",
        "# 응답코드가 200이면 가져올수 있다는뜻 "
      ],
      "metadata": {
        "colab": {
          "base_uri": "https://localhost:8080/"
        },
        "id": "bfE3sObLAuNd",
        "outputId": "7c489161-59c1-4a13-f791-3887c3e4a43d"
      },
      "execution_count": 9,
      "outputs": [
        {
          "output_type": "stream",
          "name": "stdout",
          "text": [
            "응답코드: 200\n"
          ]
        }
      ]
    },
    {
      "cell_type": "code",
      "source": [
        "# 정규식\n",
        "import re  # regular expression-정규식 표현 "
      ],
      "metadata": {
        "id": "gT_y9gXhCeaB"
      },
      "execution_count": 5,
      "outputs": []
    },
    {
      "cell_type": "markdown",
      "source": [
        "# 정형화된 번 라인이 있다. 예) 주민번호; 차량번호;\n",
        " 이런 것들의 양식에 벗어나는것들을 오류 처리하고 \\n 가져오는것을 정규식"
      ],
      "metadata": {
        "id": "3TWrJPmWk5Oy"
      }
    },
    {
      "cell_type": "code",
      "source": [
        "# 1-2 \n",
        "p = re.compile('ca.e') \n",
        "# . : 하나의 문자를 의미하는 와일드카드 문자를 의미한다. |e.g (ca.e) : care, cafe, case, | card(x)\n",
        "# ^ : 문자열의 의미 시작  | e.g (^de) : desk, destination \\ dark (x)\n",
        "# $ : 문자열의 마지막을 끝 | e.g (se$) : case, base (0) | face (x)\n",
        "\n",
        "m= p.match('case')  # p에 정규식을 컴파일 한것으로 매칭을 시켜본다. 이것을 M이라는 오브젝트에 넣기.\n",
        "print(m.group())   # group : 매칭이된 sub group을 리턴한다. 위예제는 하나밖에 없지만 보통은 많기때문에 이것을 쓴다.\n",
        "\n",
        "if m:\n",
        "  print(m.group())\n",
        "else:\n",
        "  print('No Matching')"
      ],
      "metadata": {
        "colab": {
          "base_uri": "https://localhost:8080/"
        },
        "id": "fv6fMvoEk7C1",
        "outputId": "dc3c418d-d044-4bab-e42f-2407d6bd140d"
      },
      "execution_count": 12,
      "outputs": [
        {
          "output_type": "stream",
          "name": "stdout",
          "text": [
            "case\n",
            "case\n"
          ]
        }
      ]
    },
    {
      "cell_type": "code",
      "source": [
        "# 1-3조건에 맞지 않는 인수를 넣고 돌려보기\n",
        "m= p.match('casio') \n",
        "\n",
        "\n",
        "if m:\n",
        "  print(m.group())\n",
        "else:\n",
        "  print('No Matching')"
      ],
      "metadata": {
        "colab": {
          "base_uri": "https://localhost:8080/"
        },
        "id": "xVjEMR3Tn-99",
        "outputId": "ca346681-8bae-457a-e473-034dc97d488e"
      },
      "execution_count": 14,
      "outputs": [
        {
          "output_type": "stream",
          "name": "stdout",
          "text": [
            "No Matching\n"
          ]
        }
      ]
    },
    {
      "cell_type": "code",
      "source": [
        "# 1-4 (1-3을 함수로 만들기)\n",
        "\n",
        "def print_match(m): \n",
        "    if m:\n",
        "      print(m.group())\n",
        "    else:\n",
        "      print('No Matching')\n",
        "m = p.match('case') # match 처음부터 순서대로 확인했을때 문자가 일치 하는지 여부 \n",
        "print_match(m)"
      ],
      "metadata": {
        "colab": {
          "base_uri": "https://localhost:8080/"
        },
        "id": "OfeNsh50pGWI",
        "outputId": "405ecf80-95df-4398-88d6-da62d553d708"
      },
      "execution_count": 16,
      "outputs": [
        {
          "output_type": "stream",
          "name": "stdout",
          "text": [
            "case\n"
          ]
        }
      ]
    },
    {
      "cell_type": "code",
      "source": [
        "# 1-5  와일드카드 문자 + 있을 때의 경우\n",
        "\n",
        "def print_match(m): \n",
        "    if m:\n",
        "      print(m.group())\n",
        "    else:\n",
        "      print('No Matching')\n",
        "m = p.match('careful') # match 처음부터 순서대로 확인했을때 문자가 일치 하는지 여부 \n",
        "print_match(m)"
      ],
      "metadata": {
        "colab": {
          "base_uri": "https://localhost:8080/"
        },
        "id": "k_f5CHK1qdX_",
        "outputId": "e5fdbb47-a3e3-43b8-b83f-83e1dc28c82d"
      },
      "execution_count": 20,
      "outputs": [
        {
          "output_type": "stream",
          "name": "stdout",
          "text": [
            "care\n"
          ]
        }
      ]
    },
    {
      "cell_type": "code",
      "source": [
        "# 1-6 string; \n",
        "def print_match(m): \n",
        "    if m:\n",
        "      print('m.group():', m.group()) # 일치하는 문자열 반환\n",
        "      print('m.string:', m.string) # 입력받은 문자열\n",
        "      print('m.start():', m.start()) # 일치하는 문자열의 시작 index\n",
        "      print('m.end():', m.end()) # 일치하는 문자열의 끝 index\n",
        "      print('m.span()', m.span()) # 일치하는 문자열의 시작 /끝 index \n",
        "\n",
        "    else:\n",
        "      print('No Matching')\n",
        "m = p.match('careful') # match 처음부터 순서대로 확인했을때 문자가 일치 하는지 여부 \n",
        "print_match(m)"
      ],
      "metadata": {
        "colab": {
          "base_uri": "https://localhost:8080/"
        },
        "id": "L88SlRf9rQKi",
        "outputId": "062dec46-db76-4aea-93d9-fb46dd2f263c"
      },
      "execution_count": 21,
      "outputs": [
        {
          "output_type": "stream",
          "name": "stdout",
          "text": [
            "m.group(): care\n",
            "m.string: careful\n",
            "m.start(): 0\n",
            "m.end(): 4\n",
            "m.span() (0, 4)\n"
          ]
        }
      ]
    },
    {
      "cell_type": "code",
      "source": [
        "# 1-7 finall\n",
        "lst = p.findall('good care cafe') # finall : 일치한 모든 것을 리스트 형태로 변환\n",
        "print(lst)"
      ],
      "metadata": {
        "colab": {
          "base_uri": "https://localhost:8080/"
        },
        "id": "F36jiM9KtRuV",
        "outputId": "a55caeeb-468d-4e85-938f-142920a3d2a6"
      },
      "execution_count": 23,
      "outputs": [
        {
          "output_type": "stream",
          "name": "stdout",
          "text": [
            "['care', 'cafe']\n"
          ]
        }
      ]
    }
  ]
}
